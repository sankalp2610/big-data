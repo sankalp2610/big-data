{
 "cells": [
  {
   "cell_type": "code",
   "execution_count": 1,
   "metadata": {},
   "outputs": [],
   "source": [
    "from __future__ import print_function\n",
    "import sys\n",
    "from operator import add\n",
    "from pyspark.sql import SparkSession"
   ]
  },
  {
   "cell_type": "code",
   "execution_count": 2,
   "metadata": {},
   "outputs": [],
   "source": [
    "spark = SparkSession\\\n",
    ".builder\\\n",
    ".appName(\"Assignment_2\")\\\n",
    ".getOrCreate()\n"
   ]
  },
  {
   "cell_type": "code",
   "execution_count": 3,
   "metadata": {},
   "outputs": [],
   "source": [
    "input_path = \"/Users/Sankalp/Documents/Study/Big_Data/Join\""
   ]
  },
  {
   "cell_type": "code",
   "execution_count": 4,
   "metadata": {},
   "outputs": [],
   "source": [
    "records = spark.sparkContext.textFile(input_path)"
   ]
  },
  {
   "cell_type": "code",
   "execution_count": 5,
   "metadata": {},
   "outputs": [
    {
     "data": {
      "text/plain": [
       "['A,X,V1',\n",
       " 'A,X,V2',\n",
       " 'A,Y,V3',\n",
       " 'A,Y,V4',\n",
       " 'A,Z,V5',\n",
       " 'B,X,V6',\n",
       " 'B,X,V7',\n",
       " 'B,Y,V8',\n",
       " 'B,P,V8']"
      ]
     },
     "execution_count": 5,
     "metadata": {},
     "output_type": "execute_result"
    }
   ],
   "source": [
    "records.collect()"
   ]
  },
  {
   "cell_type": "code",
   "execution_count": 6,
   "metadata": {},
   "outputs": [],
   "source": [
    "tokens = records.map(lambda x: x.split(','))"
   ]
  },
  {
   "cell_type": "code",
   "execution_count": 7,
   "metadata": {},
   "outputs": [
    {
     "data": {
      "text/plain": [
       "[['A', 'X', 'V1'],\n",
       " ['A', 'X', 'V2'],\n",
       " ['A', 'Y', 'V3'],\n",
       " ['A', 'Y', 'V4'],\n",
       " ['A', 'Z', 'V5'],\n",
       " ['B', 'X', 'V6'],\n",
       " ['B', 'X', 'V7'],\n",
       " ['B', 'Y', 'V8'],\n",
       " ['B', 'P', 'V8']]"
      ]
     },
     "execution_count": 7,
     "metadata": {},
     "output_type": "execute_result"
    }
   ],
   "source": [
    "tokens.collect()"
   ]
  },
  {
   "cell_type": "code",
   "execution_count": 8,
   "metadata": {},
   "outputs": [],
   "source": [
    "tokens1 = tokens.map(lambda x: (x[1],[x[0], x[2]]))"
   ]
  },
  {
   "cell_type": "code",
   "execution_count": 9,
   "metadata": {},
   "outputs": [
    {
     "data": {
      "text/plain": [
       "[('X', ['A', 'V1']),\n",
       " ('X', ['A', 'V2']),\n",
       " ('Y', ['A', 'V3']),\n",
       " ('Y', ['A', 'V4']),\n",
       " ('Z', ['A', 'V5']),\n",
       " ('X', ['B', 'V6']),\n",
       " ('X', ['B', 'V7']),\n",
       " ('Y', ['B', 'V8']),\n",
       " ('P', ['B', 'V8'])]"
      ]
     },
     "execution_count": 9,
     "metadata": {},
     "output_type": "execute_result"
    }
   ],
   "source": [
    "tokens1.collect()"
   ]
  },
  {
   "cell_type": "code",
   "execution_count": 10,
   "metadata": {},
   "outputs": [],
   "source": [
    "tokens2 = tokens1.groupByKey()"
   ]
  },
  {
   "cell_type": "code",
   "execution_count": 11,
   "metadata": {},
   "outputs": [
    {
     "data": {
      "text/plain": [
       "[('X', <pyspark.resultiterable.ResultIterable at 0x1207065f8>),\n",
       " ('Y', <pyspark.resultiterable.ResultIterable at 0x120706be0>),\n",
       " ('Z', <pyspark.resultiterable.ResultIterable at 0x120706518>),\n",
       " ('P', <pyspark.resultiterable.ResultIterable at 0x1207066d8>)]"
      ]
     },
     "execution_count": 11,
     "metadata": {},
     "output_type": "execute_result"
    }
   ],
   "source": [
    "tokens2.collect()"
   ]
  },
  {
   "cell_type": "code",
   "execution_count": 12,
   "metadata": {},
   "outputs": [],
   "source": [
    "tokens3 = tokens2.map(lambda x: (x[0], list(x[1])))"
   ]
  },
  {
   "cell_type": "code",
   "execution_count": 13,
   "metadata": {},
   "outputs": [
    {
     "data": {
      "text/plain": [
       "[('X', [['A', 'V1'], ['A', 'V2'], ['B', 'V6'], ['B', 'V7']]),\n",
       " ('Y', [['A', 'V3'], ['A', 'V4'], ['B', 'V8']]),\n",
       " ('Z', [['A', 'V5']]),\n",
       " ('P', [['B', 'V8']])]"
      ]
     },
     "execution_count": 13,
     "metadata": {},
     "output_type": "execute_result"
    }
   ],
   "source": [
    "tokens3.collect()"
   ]
  },
  {
   "cell_type": "code",
   "execution_count": 14,
   "metadata": {},
   "outputs": [],
   "source": [
    "def combine_lists(x):\n",
    "    list_a = []\n",
    "    list_b = []\n",
    "    list_c = []\n",
    "    for i in x:\n",
    "        first, second = i\n",
    "        if first == 'A':\n",
    "            list_a.append(second)\n",
    "        elif first == 'B':\n",
    "            list_b.append(second)\n",
    "    for a in list_a:\n",
    "        for b in list_b:\n",
    "            list_c.append(tuple([a, b]))\n",
    "    return (list_c)"
   ]
  },
  {
   "cell_type": "code",
   "execution_count": 15,
   "metadata": {},
   "outputs": [],
   "source": [
    "tokens4 = tokens3.map(lambda x: (x[0], combine_lists(x[1]))).filter(lambda x: len(x[1]) >1)"
   ]
  },
  {
   "cell_type": "code",
   "execution_count": 16,
   "metadata": {
    "scrolled": true
   },
   "outputs": [
    {
     "data": {
      "text/plain": [
       "[('X', [('V1', 'V6'), ('V1', 'V7'), ('V2', 'V6'), ('V2', 'V7')]),\n",
       " ('Y', [('V3', 'V8'), ('V4', 'V8')])]"
      ]
     },
     "execution_count": 16,
     "metadata": {},
     "output_type": "execute_result"
    }
   ],
   "source": [
    "tokens4.collect()"
   ]
  }
 ],
 "metadata": {
  "kernelspec": {
   "display_name": "Python 3",
   "language": "python",
   "name": "python3"
  },
  "language_info": {
   "codemirror_mode": {
    "name": "ipython",
    "version": 3
   },
   "file_extension": ".py",
   "mimetype": "text/x-python",
   "name": "python",
   "nbconvert_exporter": "python",
   "pygments_lexer": "ipython3",
   "version": "3.7.3"
  }
 },
 "nbformat": 4,
 "nbformat_minor": 2
}
