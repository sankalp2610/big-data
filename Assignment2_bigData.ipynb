{
 "cells": [
  {
   "cell_type": "code",
   "execution_count": 1,
   "metadata": {},
   "outputs": [
    {
     "name": "stdout",
     "output_type": "stream",
     "text": [
      "input_path: D:/Big_data/ratings.txt\n"
     ]
    }
   ],
   "source": [
    "from __future__ import print_function \n",
    "import sys \n",
    "from pyspark.sql import SparkSession \n",
    "from pyspark import SparkConf\n",
    "from pyspark import SparkContext\n",
    "\n",
    "\n",
    "# create a SparkSession object\n",
    "spark = SparkSession\\\n",
    "   .builder\\\n",
    "   .appName(\"Movie_rating_app\")\\\n",
    "   .getOrCreate()\n",
    "\n",
    "\n",
    "#  sys.argv[0] is the name of the script.\n",
    "#  sys.argv[1] is the first parameter\n",
    "input_path = \"D:/Big_data/ratings.txt\"  \n",
    "print(\"input_path: {}\".format(input_path))"
   ]
  },
  {
   "cell_type": "code",
   "execution_count": 2,
   "metadata": {},
   "outputs": [
    {
     "name": "stdout",
     "output_type": "stream",
     "text": [
      "records.count():  20\n",
      "records.collect():  ['U1,M4,4', 'U1,M4,3', 'U1,M2,5', 'U1,M2,0', 'U1,M3,2', 'U2,M4,3', 'U2,M4,4', 'U2,M4,5', 'U3,M1,1', 'U3,M5,6', 'U3,M4,4', 'U3,M4,5', 'U4,M2,3', 'U4,M1,1', 'U4,M1,4', 'U4,M1,5', 'U5,M1,3', 'U5,M1,1', 'U6,M1,3', 'U6,M9,4']\n"
     ]
    }
   ],
   "source": [
    "records = spark.sparkContext.textFile(input_path) \n",
    "print(\"records.count(): \", records.count())\n",
    "print(\"records.collect(): \", records.collect())"
   ]
  },
  {
   "cell_type": "code",
   "execution_count": 3,
   "metadata": {},
   "outputs": [],
   "source": [
    "ratings = records.map(lambda x: x.split(','))"
   ]
  },
  {
   "cell_type": "code",
   "execution_count": 4,
   "metadata": {},
   "outputs": [
    {
     "data": {
      "text/plain": [
       "[['U1', 'M4', '4'],\n",
       " ['U1', 'M4', '3'],\n",
       " ['U1', 'M2', '5'],\n",
       " ['U1', 'M2', '0'],\n",
       " ['U1', 'M3', '2'],\n",
       " ['U2', 'M4', '3'],\n",
       " ['U2', 'M4', '4'],\n",
       " ['U2', 'M4', '5'],\n",
       " ['U3', 'M1', '1'],\n",
       " ['U3', 'M5', '6'],\n",
       " ['U3', 'M4', '4'],\n",
       " ['U3', 'M4', '5'],\n",
       " ['U4', 'M2', '3'],\n",
       " ['U4', 'M1', '1'],\n",
       " ['U4', 'M1', '4'],\n",
       " ['U4', 'M1', '5'],\n",
       " ['U5', 'M1', '3'],\n",
       " ['U5', 'M1', '1'],\n",
       " ['U6', 'M1', '3'],\n",
       " ['U6', 'M9', '4']]"
      ]
     },
     "execution_count": 4,
     "metadata": {},
     "output_type": "execute_result"
    }
   ],
   "source": [
    "ratings.collect()"
   ]
  },
  {
   "cell_type": "code",
   "execution_count": 30,
   "metadata": {},
   "outputs": [],
   "source": [
    "ratings1=ratings.filter(lambda x : int(x[2])>0 )"
   ]
  },
  {
   "cell_type": "code",
   "execution_count": 31,
   "metadata": {},
   "outputs": [
    {
     "data": {
      "text/plain": [
       "19"
      ]
     },
     "execution_count": 31,
     "metadata": {},
     "output_type": "execute_result"
    }
   ],
   "source": [
    "ratings1.count()"
   ]
  },
  {
   "cell_type": "code",
   "execution_count": 32,
   "metadata": {},
   "outputs": [
    {
     "data": {
      "text/plain": [
       "[['U1', 'M4', '4'],\n",
       " ['U1', 'M4', '3'],\n",
       " ['U1', 'M2', '5'],\n",
       " ['U1', 'M3', '2'],\n",
       " ['U2', 'M4', '3'],\n",
       " ['U2', 'M4', '4'],\n",
       " ['U2', 'M4', '5'],\n",
       " ['U3', 'M1', '1'],\n",
       " ['U3', 'M5', '6'],\n",
       " ['U3', 'M4', '4'],\n",
       " ['U3', 'M4', '5'],\n",
       " ['U4', 'M2', '3'],\n",
       " ['U4', 'M1', '1'],\n",
       " ['U4', 'M1', '4'],\n",
       " ['U4', 'M1', '5'],\n",
       " ['U5', 'M1', '3'],\n",
       " ['U5', 'M1', '1'],\n",
       " ['U6', 'M1', '3'],\n",
       " ['U6', 'M9', '4']]"
      ]
     },
     "execution_count": 32,
     "metadata": {},
     "output_type": "execute_result"
    }
   ],
   "source": [
    "ratings1.collect()"
   ]
  },
  {
   "cell_type": "code",
   "execution_count": 33,
   "metadata": {},
   "outputs": [],
   "source": [
    "ratings2=ratings1.filter(lambda x : int(x[2])<6 )"
   ]
  },
  {
   "cell_type": "code",
   "execution_count": 34,
   "metadata": {},
   "outputs": [
    {
     "data": {
      "text/plain": [
       "18"
      ]
     },
     "execution_count": 34,
     "metadata": {},
     "output_type": "execute_result"
    }
   ],
   "source": [
    "ratings2.count()"
   ]
  },
  {
   "cell_type": "code",
   "execution_count": 35,
   "metadata": {},
   "outputs": [
    {
     "data": {
      "text/plain": [
       "[['U1', 'M4', '4'],\n",
       " ['U1', 'M4', '3'],\n",
       " ['U1', 'M2', '5'],\n",
       " ['U1', 'M3', '2'],\n",
       " ['U2', 'M4', '3'],\n",
       " ['U2', 'M4', '4'],\n",
       " ['U2', 'M4', '5'],\n",
       " ['U3', 'M1', '1'],\n",
       " ['U3', 'M4', '4'],\n",
       " ['U3', 'M4', '5'],\n",
       " ['U4', 'M2', '3'],\n",
       " ['U4', 'M1', '1'],\n",
       " ['U4', 'M1', '4'],\n",
       " ['U4', 'M1', '5'],\n",
       " ['U5', 'M1', '3'],\n",
       " ['U5', 'M1', '1'],\n",
       " ['U6', 'M1', '3'],\n",
       " ['U6', 'M9', '4']]"
      ]
     },
     "execution_count": 35,
     "metadata": {},
     "output_type": "execute_result"
    }
   ],
   "source": [
    "ratings2.collect()"
   ]
  },
  {
   "cell_type": "code",
   "execution_count": 36,
   "metadata": {},
   "outputs": [
    {
     "name": "stdout",
     "output_type": "stream",
     "text": [
      "pairs.collect():  [('M4', ('U1', '4')), ('M4', ('U1', '3')), ('M2', ('U1', '5')), ('M3', ('U1', '2')), ('M4', ('U2', '3')), ('M4', ('U2', '4')), ('M4', ('U2', '5')), ('M1', ('U3', '1')), ('M4', ('U3', '4')), ('M4', ('U3', '5')), ('M2', ('U4', '3')), ('M1', ('U4', '1')), ('M1', ('U4', '4')), ('M1', ('U4', '5')), ('M1', ('U5', '3')), ('M1', ('U5', '1')), ('M1', ('U6', '3')), ('M9', ('U6', '4'))]\n"
     ]
    }
   ],
   "source": [
    "pairs =  ratings2.map(lambda x: (x[1], (x[0],x[2]))) \n",
    "#print(\"pairs.count(): \", pairs.count())\n",
    "print(\"pairs.collect(): \", pairs.collect())"
   ]
  },
  {
   "cell_type": "code",
   "execution_count": 37,
   "metadata": {},
   "outputs": [
    {
     "name": "stdout",
     "output_type": "stream",
     "text": [
      "pairs.collect():  [(('M4', 'U1'), 1), (('M4', 'U1'), 1), (('M2', 'U1'), 1), (('M3', 'U1'), 1), (('M4', 'U2'), 1), (('M4', 'U2'), 1), (('M4', 'U2'), 1), (('M1', 'U3'), 1), (('M4', 'U3'), 1), (('M4', 'U3'), 1), (('M2', 'U4'), 1), (('M1', 'U4'), 1), (('M1', 'U4'), 1), (('M1', 'U4'), 1), (('M1', 'U5'), 1), (('M1', 'U5'), 1), (('M1', 'U6'), 1), (('M9', 'U6'), 1)]\n"
     ]
    }
   ],
   "source": [
    "pairs2 =  pairs.map(lambda x: ((x[0], x[1][0]),1)) \n",
    "#print(\"pairs.count(): \", pairs.count())\n",
    "print(\"pairs.collect(): \", pairs2.collect())"
   ]
  },
  {
   "cell_type": "code",
   "execution_count": 38,
   "metadata": {},
   "outputs": [
    {
     "name": "stdout",
     "output_type": "stream",
     "text": [
      "frequencies.count():  11\n",
      "frequencies.collect():  [(('M4', 'U1'), 2), (('M2', 'U1'), 1), (('M3', 'U1'), 1), (('M4', 'U2'), 3), (('M1', 'U3'), 1), (('M4', 'U3'), 2), (('M2', 'U4'), 1), (('M1', 'U4'), 3), (('M1', 'U6'), 1), (('M1', 'U5'), 2), (('M9', 'U6'), 1)]\n"
     ]
    }
   ],
   "source": [
    "frequencies = pairs2.reduceByKey(lambda a, b: a + b) \n",
    "print(\"frequencies.count(): \", frequencies.count())\n",
    "print(\"frequencies.collect(): \", frequencies.collect())"
   ]
  },
  {
   "cell_type": "code",
   "execution_count": 42,
   "metadata": {},
   "outputs": [
    {
     "name": "stdout",
     "output_type": "stream",
     "text": [
      "pairs.collect():  [('M4', ('U1', 2)), ('M2', ('U1', 1)), ('M3', ('U1', 1)), ('M4', ('U2', 3)), ('M1', ('U3', 1)), ('M4', ('U3', 2)), ('M2', ('U4', 1)), ('M1', ('U4', 3)), ('M1', ('U6', 1)), ('M1', ('U5', 2)), ('M9', ('U6', 1))]\n"
     ]
    }
   ],
   "source": [
    "pairs3 =  frequencies.map(lambda x: (x[0][0], (x[0][1],x[1]))) \n",
    "#print(\"pairs.count(): \", pairs.count())\n",
    "print(\"pairs.collect(): \", pairs3.collect())"
   ]
  },
  {
   "cell_type": "code",
   "execution_count": 140,
   "metadata": {},
   "outputs": [],
   "source": [
    "def abc(x):\n",
    "    total = 0\n",
    "    total = total + x\n",
    "    return total"
   ]
  },
  {
   "cell_type": "code",
   "execution_count": 145,
   "metadata": {},
   "outputs": [],
   "source": [
    "pairs4 = pairs3.map(lambda x: (x[0], (x[1][0], abc(x[1][1]))))"
   ]
  },
  {
   "cell_type": "code",
   "execution_count": 146,
   "metadata": {},
   "outputs": [
    {
     "data": {
      "text/plain": [
       "[('M4', ('U1', 2)),\n",
       " ('M2', ('U1', 1)),\n",
       " ('M3', ('U1', 1)),\n",
       " ('M4', ('U2', 3)),\n",
       " ('M1', ('U3', 1)),\n",
       " ('M4', ('U3', 2)),\n",
       " ('M2', ('U4', 1)),\n",
       " ('M1', ('U4', 3)),\n",
       " ('M1', ('U6', 1)),\n",
       " ('M1', ('U5', 2)),\n",
       " ('M9', ('U6', 1))]"
      ]
     },
     "execution_count": 146,
     "metadata": {},
     "output_type": "execute_result"
    }
   ],
   "source": [
    "pairs4.collect()"
   ]
  },
  {
   "cell_type": "code",
   "execution_count": 147,
   "metadata": {},
   "outputs": [],
   "source": [
    "pairs5 = pairs4.groupByKey()"
   ]
  },
  {
   "cell_type": "code",
   "execution_count": 149,
   "metadata": {},
   "outputs": [
    {
     "data": {
      "text/plain": [
       "[('M4', [('U1', 2), ('U2', 3), ('U3', 2)]),\n",
       " ('M2', [('U1', 1), ('U4', 1)]),\n",
       " ('M3', [('U1', 1)]),\n",
       " ('M1', [('U3', 1), ('U4', 3), ('U6', 1), ('U5', 2)]),\n",
       " ('M9', [('U6', 1)])]"
      ]
     },
     "execution_count": 149,
     "metadata": {},
     "output_type": "execute_result"
    }
   ],
   "source": [
    "pairs5 =pairs5.map(lambda x: (x[0], list(x[1])))\n",
    "pairs5.collect()"
   ]
  },
  {
   "cell_type": "code",
   "execution_count": 150,
   "metadata": {},
   "outputs": [],
   "source": [
    "def function1(x):\n",
    "    total = 0\n",
    "    for y in x:\n",
    "        total = total + y[1]\n",
    "    return total"
   ]
  },
  {
   "cell_type": "code",
   "execution_count": 159,
   "metadata": {},
   "outputs": [],
   "source": [
    "def function2(x):\n",
    "    unique = set()\n",
    "    for y in x:\n",
    "        unique.add(y[0])\n",
    "        #print(unique)\n",
    "    return len(unique)\n",
    "        "
   ]
  },
  {
   "cell_type": "code",
   "execution_count": 162,
   "metadata": {},
   "outputs": [],
   "source": [
    "pairs6 = pairs5.map(lambda x: (x[0], function1(x[1]), function2(x[1])))"
   ]
  },
  {
   "cell_type": "code",
   "execution_count": 163,
   "metadata": {},
   "outputs": [
    {
     "data": {
      "text/plain": [
       "[('M4', 7, 3), ('M2', 2, 2), ('M3', 1, 1), ('M1', 7, 4), ('M9', 1, 1)]"
      ]
     },
     "execution_count": 163,
     "metadata": {},
     "output_type": "execute_result"
    }
   ],
   "source": [
    "pairs6.collect()"
   ]
  },
  {
   "cell_type": "code",
   "execution_count": 164,
   "metadata": {},
   "outputs": [
    {
     "data": {
      "text/plain": [
       "[('M4', 7, 3), ('M2', 2, 2), ('M1', 7, 4)]"
      ]
     },
     "execution_count": 164,
     "metadata": {},
     "output_type": "execute_result"
    }
   ],
   "source": [
    "#output\n",
    "pairs7=pairs6.filter(lambda x : int(x[2])>1 )\n",
    "pairs7.collect()"
   ]
  },
  {
   "cell_type": "code",
   "execution_count": 81,
   "metadata": {},
   "outputs": [],
   "source": [
    "pairs4 = pairs3.groupByKey()"
   ]
  },
  {
   "cell_type": "code",
   "execution_count": 82,
   "metadata": {},
   "outputs": [
    {
     "data": {
      "text/plain": [
       "[('M4', <pyspark.resultiterable.ResultIterable at 0x1bf42e24dd8>),\n",
       " ('M2', <pyspark.resultiterable.ResultIterable at 0x1bf42bc8f28>),\n",
       " ('M3', <pyspark.resultiterable.ResultIterable at 0x1bf42dc6eb8>),\n",
       " ('M1', <pyspark.resultiterable.ResultIterable at 0x1bf42dc6be0>),\n",
       " ('M9', <pyspark.resultiterable.ResultIterable at 0x1bf42dce198>)]"
      ]
     },
     "execution_count": 82,
     "metadata": {},
     "output_type": "execute_result"
    }
   ],
   "source": [
    "pairs4.collect()"
   ]
  },
  {
   "cell_type": "code",
   "execution_count": 83,
   "metadata": {},
   "outputs": [],
   "source": [
    "pairs4 =pairs4.map(lambda x: (x[0], list(x[1])))"
   ]
  },
  {
   "cell_type": "code",
   "execution_count": 84,
   "metadata": {},
   "outputs": [
    {
     "data": {
      "text/plain": [
       "[('M4', [('U1', 2), ('U2', 3), ('U3', 2)]),\n",
       " ('M2', [('U1', 1), ('U4', 1)]),\n",
       " ('M3', [('U1', 1)]),\n",
       " ('M1', [('U3', 1), ('U4', 3), ('U6', 1), ('U5', 2)]),\n",
       " ('M9', [('U6', 1)])]"
      ]
     },
     "execution_count": 84,
     "metadata": {},
     "output_type": "execute_result"
    }
   ],
   "source": [
    "pairs4.collect()"
   ]
  }
 ],
 "metadata": {
  "kernelspec": {
   "display_name": "Python 3",
   "language": "python",
   "name": "python3"
  },
  "language_info": {
   "codemirror_mode": {
    "name": "ipython",
    "version": 3
   },
   "file_extension": ".py",
   "mimetype": "text/x-python",
   "name": "python",
   "nbconvert_exporter": "python",
   "pygments_lexer": "ipython3",
   "version": "3.7.3"
  }
 },
 "nbformat": 4,
 "nbformat_minor": 2
}
